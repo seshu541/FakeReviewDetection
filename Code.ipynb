{
  "nbformat": 4,
  "nbformat_minor": 0,
  "metadata": {
    "colab": {
      "provenance": [],
      "authorship_tag": "ABX9TyM7DQi7vW6SLNJ3k008yxfS",
      "include_colab_link": true
    },
    "kernelspec": {
      "name": "python3",
      "display_name": "Python 3"
    },
    "language_info": {
      "name": "python"
    }
  },
  "cells": [
    {
      "cell_type": "markdown",
      "metadata": {
        "id": "view-in-github",
        "colab_type": "text"
      },
      "source": [
        "<a href=\"https://colab.research.google.com/github/seshu541/FakeReviewDetection/blob/main/Code.ipynb\" target=\"_parent\"><img src=\"https://colab.research.google.com/assets/colab-badge.svg\" alt=\"Open In Colab\"/></a>"
      ]
    },
    {
      "cell_type": "code",
      "execution_count": 1,
      "metadata": {
        "colab": {
          "base_uri": "https://localhost:8080/",
          "height": 601
        },
        "id": "TFRGH4V9sEJU",
        "outputId": "b543164a-cb0f-43dd-df11-25e7ef1d40a3"
      },
      "outputs": [
        {
          "output_type": "display_data",
          "data": {
            "text/plain": [
              "<Figure size 600x400 with 1 Axes>"
            ],
            "image/png": "[encoded data removed]"
          },
          "metadata": {}
        },
        {
          "output_type": "stream",
          "name": "stdout",
          "text": [
            "Accuracy: 0.9075058736243353\n",
            "Classification Report:\n",
            "              precision    recall  f1-score   support\n",
            "\n",
            "          CG       0.92      0.89      0.91      4016\n",
            "          OR       0.89      0.93      0.91      4071\n",
            "\n",
            "    accuracy                           0.91      8087\n",
            "   macro avg       0.91      0.91      0.91      8087\n",
            "weighted avg       0.91      0.91      0.91      8087\n",
            "\n"
          ]
        }
      ],
      "source": [
        "import pandas as pd\n",
        "import matplotlib.pyplot as plt\n",
        "import seaborn as sns\n",
        "from wordcloud import WordCloud\n",
        "from sklearn.model_selection import train_test_split\n",
        "from sklearn.feature_extraction.text import TfidfVectorizer\n",
        "from sklearn.naive_bayes import MultinomialNB\n",
        "from sklearn.metrics import accuracy_score, classification_report\n",
        "from sklearn.utils import resample\n",
        "\n",
        "# Load dataset\n",
        "file_path ='/content/fakereviewsdataset.csv'\n",
        "data = pd.read_csv(file_path)\n",
        "\n",
        "# Handle class imbalance by oversampling the minority class\n",
        "df_majority = data[data['label'] == 'CG']\n",
        "df_minority = data[data['label'] == 'OR']\n",
        "\n",
        "# Upsample minority class (OR) to match majority class (CG)\n",
        "df_minority_upsampled = resample(df_minority,\n",
        "                                 replace=True,   # sample with replacement\n",
        "                                 n_samples=len(df_majority),  # to match majority class\n",
        "                                 random_state=42)\n",
        "\n",
        "# Combine majority class with upsampled minority class\n",
        "data_upsampled = pd.concat([df_majority, df_minority_upsampled])\n",
        "\n",
        "# EDA: Label distribution after balancing\n",
        "plt.figure(figsize=(6, 4))\n",
        "sns.countplot(data_upsampled['label'])\n",
        "plt.title('Balanced Label Distribution')\n",
        "plt.show()\n",
        "\n",
        "# Preprocess text data: Clean and tokenize the reviews\n",
        "vectorizer = TfidfVectorizer(stop_words='english', max_df=0.7, min_df=5, ngram_range=(1, 2))\n",
        "X = vectorizer.fit_transform(data_upsampled['text_'])\n",
        "\n",
        "# Target variable\n",
        "y = data_upsampled['label']\n",
        "\n",
        "# Split data into train and test sets\n",
        "X_train, X_test, y_train, y_test = train_test_split(X, y, test_size=0.2, random_state=42)\n",
        "\n",
        "# Train Naive Bayes model with balanced data\n",
        "nb_model = MultinomialNB(alpha=0.1)  # Adding alpha for smoothing\n",
        "nb_model.fit(X_train, y_train)\n",
        "\n",
        "# Make predictions and evaluate\n",
        "y_pred = nb_model.predict(X_test)\n",
        "accuracy = accuracy_score(y_test, y_pred)\n",
        "classification_rep = classification_report(y_test, y_pred)\n",
        "\n",
        "# Output accuracy and classification report\n",
        "print(f'Accuracy: {accuracy}')\n",
        "print(f'Classification Report:\\n{classification_rep}')"
      ]
    }
  ]
}